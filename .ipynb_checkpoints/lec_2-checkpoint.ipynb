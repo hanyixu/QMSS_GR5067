{
 "cells": [
  {
   "cell_type": "code",
   "execution_count": 2,
   "id": "def30b61-e1b6-4e1a-abfa-5785df08fd02",
   "metadata": {},
   "outputs": [],
   "source": [
    "str_a = \"the weather today is really beautiful\"\n",
    "str_b = \"the weather today is nice\""
   ]
  },
  {
   "cell_type": "code",
   "execution_count": 8,
   "id": "85332a53-3eaf-4b0b-bcc1-ca8563f8154c",
   "metadata": {},
   "outputs": [
    {
     "name": "stdout",
     "output_type": "stream",
     "text": [
      "0.5714285714285714\n"
     ]
    }
   ],
   "source": [
    "#Jaccardian measure\n",
    "#intersection (shared number of tokens) / union (total number of tokens)\n",
    "\n",
    "str_a_s = str_a.split()\n",
    "str_b_s = str_b.split()\n",
    "\n",
    "str_a_s_set = set(str_a_s)\n",
    "str_b_s_set = set(str_b_s)\n",
    "\n",
    "the_u = str_a_s_set.union(str_b_s_set)\n",
    "the_i = str_a_s_set.intersection(str_b_s_set)\n",
    "\n",
    "j_d = len(the_i) / len(the_u) \n",
    "\n",
    "print (j_d)"
   ]
  },
  {
   "cell_type": "code",
   "execution_count": 45,
   "id": "be3fdf22-e805-4af5-b773-7a8ad8aa4704",
   "metadata": {},
   "outputs": [],
   "source": [
    "def hello_world():\n",
    "    print (\"Hello World\")\n",
    "    return 0"
   ]
  },
  {
   "cell_type": "code",
   "execution_count": 15,
   "id": "b5be0f6d-c9dd-4069-8f18-d2e19004306b",
   "metadata": {},
   "outputs": [
    {
     "name": "stdout",
     "output_type": "stream",
     "text": [
      "Hello World\n"
     ]
    }
   ],
   "source": [
    "hello_world()"
   ]
  },
  {
   "cell_type": "code",
   "execution_count": 16,
   "id": "d96953e2-033e-4ca3-8931-6a3e78064212",
   "metadata": {},
   "outputs": [],
   "source": [
    "def add_fun(var_a, var_b):\n",
    "    tmp = var_a + var_b\n",
    "    return tmp"
   ]
  },
  {
   "cell_type": "code",
   "execution_count": 17,
   "id": "ffb37e7b-0788-4395-b821-91f33dfba51d",
   "metadata": {},
   "outputs": [
    {
     "name": "stdout",
     "output_type": "stream",
     "text": [
      "12\n"
     ]
    }
   ],
   "source": [
    "the_ans = add_fun(4, 8)\n",
    "print (the_ans)"
   ]
  },
  {
   "cell_type": "code",
   "execution_count": 39,
   "id": "1adfdaab-06a1-4d71-b0d8-9ac82ae65f67",
   "metadata": {},
   "outputs": [],
   "source": [
    "#create a function that takes 2 corpuses and outputs the jaccardian measure\n",
    "#name the function jd_fun\n",
    "\n",
    "def jd_fun(str_a_in, str_b_in):\n",
    "    j_d_i = None #initialization\n",
    "    try:\n",
    "        str_a_i_s = str_a_in.split()\n",
    "        str_b_i_s = str_b_in.split()\n",
    "        str_a_s_set_i = set(str_a_i_s)\n",
    "        str_b_s_set_i = set(str_b_i_s)\n",
    "        the_u_i = str_a_s_set_i.union(str_a_s_set_i)\n",
    "        the_i_i = str_a_s_set_i.intersection(str_b_s_set_i)\n",
    "        j_d_i = len(the_i_i) / len(the_u_i) \n",
    "    except:\n",
    "        print (\"houston we have an issue\")\n",
    "        pass\n",
    "    return j_d_i\n"
   ]
  },
  {
   "cell_type": "code",
   "execution_count": 40,
   "id": "5d292de3-9fcf-484c-8288-ac4bb53140d8",
   "metadata": {},
   "outputs": [
    {
     "name": "stdout",
     "output_type": "stream",
     "text": [
      "0.4\n"
     ]
    }
   ],
   "source": [
    "print (jd_fun(\"the cat jump over the fence\", \"the dog chased the cat\"))"
   ]
  },
  {
   "cell_type": "code",
   "execution_count": 46,
   "id": "b5250b3a-fd92-4c12-a692-1ff4ad3d6883",
   "metadata": {},
   "outputs": [
    {
     "name": "stdout",
     "output_type": "stream",
     "text": [
      "houston we have an issue\n",
      "None\n",
      "Hello World\n",
      "0\n"
     ]
    }
   ],
   "source": [
    "print (jd_fun(4, \"the dog chased the cat\"))\n",
    "print (hello_world())"
   ]
  },
  {
   "cell_type": "code",
   "execution_count": 50,
   "id": "cda76014-9a0b-4daf-8139-5420bc3e5c2e",
   "metadata": {},
   "outputs": [
    {
     "name": "stdout",
     "output_type": "stream",
     "text": [
      "{}\n"
     ]
    }
   ],
   "source": [
    "#dictionary\n",
    "#key, value pair\n",
    "#key is unique\n",
    "the_dictionary = dict()\n",
    "print (the_dictionary)\n",
    "the_dictionary[\"key_a\"] = \"columbia\""
   ]
  },
  {
   "cell_type": "code",
   "execution_count": 51,
   "id": "d84d68f7-f4a8-4cf7-a264-c4df915d3a50",
   "metadata": {},
   "outputs": [
    {
     "data": {
      "text/plain": [
       "{'key_a': 'columbia'}"
      ]
     },
     "execution_count": 51,
     "metadata": {},
     "output_type": "execute_result"
    }
   ],
   "source": [
    "the_dictionary"
   ]
  },
  {
   "cell_type": "code",
   "execution_count": 52,
   "id": "6c48e7dc-f251-4e96-8f37-e4ccdd561c39",
   "metadata": {},
   "outputs": [],
   "source": [
    "the_dictionary[\"key_b\"] = [1, 4, 6]"
   ]
  },
  {
   "cell_type": "code",
   "execution_count": 53,
   "id": "9a5f863a-58fd-4699-a77b-c312f23b8f6f",
   "metadata": {},
   "outputs": [
    {
     "data": {
      "text/plain": [
       "{'key_a': 'columbia', 'key_b': [1, 4, 6]}"
      ]
     },
     "execution_count": 53,
     "metadata": {},
     "output_type": "execute_result"
    }
   ],
   "source": [
    "the_dictionary"
   ]
  },
  {
   "cell_type": "code",
   "execution_count": 54,
   "id": "8a086162-2848-40cd-aa33-c93c76c51fe9",
   "metadata": {},
   "outputs": [
    {
     "data": {
      "text/plain": [
       "[1, 4, 6]"
      ]
     },
     "execution_count": 54,
     "metadata": {},
     "output_type": "execute_result"
    }
   ],
   "source": [
    "the_dictionary[\"key_b\"]"
   ]
  },
  {
   "cell_type": "code",
   "execution_count": 55,
   "id": "e31a678f-a2c8-446c-848e-cd706a3b20c8",
   "metadata": {},
   "outputs": [],
   "source": [
    "the_dictionary[\"key_c\"] = {\"key_blah\": 3.14}"
   ]
  },
  {
   "cell_type": "code",
   "execution_count": 57,
   "id": "a849af42-4b0a-421c-88f7-389d44b5f7e3",
   "metadata": {},
   "outputs": [
    {
     "data": {
      "text/plain": [
       "{'key_a': 'columbia', 'key_b': [1, 4, 6], 'key_c': {'key_blah': 3.14}}"
      ]
     },
     "execution_count": 57,
     "metadata": {},
     "output_type": "execute_result"
    }
   ],
   "source": [
    "the_dictionary"
   ]
  },
  {
   "cell_type": "code",
   "execution_count": 59,
   "id": "f13079f7-1937-4d4e-b9da-db60d3699c54",
   "metadata": {},
   "outputs": [
    {
     "name": "stdout",
     "output_type": "stream",
     "text": [
      "['key_a', 'key_b', 'key_c']\n"
     ]
    }
   ],
   "source": [
    "the_keys = the_dictionary.keys()\n",
    "print (list(the_keys))"
   ]
  },
  {
   "cell_type": "code",
   "execution_count": 61,
   "id": "93cda997-ca48-4343-8544-818f9143af2e",
   "metadata": {},
   "outputs": [
    {
     "data": {
      "text/plain": [
       "{1, 4, 6, 7, 8, 9}"
      ]
     },
     "execution_count": 61,
     "metadata": {},
     "output_type": "execute_result"
    }
   ],
   "source": [
    "#one can convert between data structures\n",
    "\n",
    "list_a = set([1, 4, 6, 6, 7, 8, 9])\n",
    "list_a\n"
   ]
  },
  {
   "cell_type": "code",
   "execution_count": 62,
   "id": "a9a2726c-84bb-4327-aa9d-2dc00620d857",
   "metadata": {},
   "outputs": [
    {
     "data": {
      "text/plain": [
       "{'key_a': 'columbia', 'key_b': [1, 4, 6], 'key_c': {'key_blah': 3.14}}"
      ]
     },
     "execution_count": 62,
     "metadata": {},
     "output_type": "execute_result"
    }
   ],
   "source": [
    "the_dictionary"
   ]
  },
  {
   "cell_type": "code",
   "execution_count": 64,
   "id": "d4b26829-37d1-40ea-8462-14cfec1ee724",
   "metadata": {},
   "outputs": [
    {
     "data": {
      "text/plain": [
       "{'key_a': 'university', 'key_b': [1, 4, 6], 'key_c': {'key_blah': 3.14}}"
      ]
     },
     "execution_count": 64,
     "metadata": {},
     "output_type": "execute_result"
    }
   ],
   "source": [
    "the_dictionary[\"key_a\"] = \"university\"\n",
    "the_dictionary"
   ]
  },
  {
   "cell_type": "code",
   "execution_count": 65,
   "id": "2f97693d-1baa-43cf-ac5d-9f8f5c9e6236",
   "metadata": {},
   "outputs": [],
   "source": [
    "#gotcha's with lists\n",
    "\n",
    "list_a = [\"a\", \"A\", \"a\", \"f\", \"z\"]"
   ]
  },
  {
   "cell_type": "code",
   "execution_count": 66,
   "id": "e4381231-397f-4302-8093-5f28a469b7d2",
   "metadata": {},
   "outputs": [],
   "source": [
    "list_a_copy = list_a"
   ]
  },
  {
   "cell_type": "code",
   "execution_count": 68,
   "id": "c72b2a4f-eac8-4625-9b92-26acb30e6086",
   "metadata": {},
   "outputs": [
    {
     "data": {
      "text/plain": [
       "['a', 'A', 'a', 'f', 'z', 'e']"
      ]
     },
     "execution_count": 68,
     "metadata": {},
     "output_type": "execute_result"
    }
   ],
   "source": [
    "list_a.append(\"e\")\n",
    "list_a"
   ]
  },
  {
   "cell_type": "code",
   "execution_count": 69,
   "id": "f7f910ba-0bdd-4e99-916c-c93319ab6e45",
   "metadata": {},
   "outputs": [
    {
     "data": {
      "text/plain": [
       "['a', 'A', 'a', 'f', 'z', 'e']"
      ]
     },
     "execution_count": 69,
     "metadata": {},
     "output_type": "execute_result"
    }
   ],
   "source": [
    "list_a_copy"
   ]
  },
  {
   "cell_type": "code",
   "execution_count": 70,
   "id": "f7fd3de0-61eb-4978-88ff-06291a56f673",
   "metadata": {},
   "outputs": [],
   "source": [
    "list_a_true_copy = list_a.copy()"
   ]
  },
  {
   "cell_type": "code",
   "execution_count": 71,
   "id": "66ba6451-c2e9-4e42-ac9e-c7ba9db24b47",
   "metadata": {},
   "outputs": [
    {
     "data": {
      "text/plain": [
       "['a', 'A', 'a', 'f', 'z', 'e']"
      ]
     },
     "execution_count": 71,
     "metadata": {},
     "output_type": "execute_result"
    }
   ],
   "source": [
    "list_a_true_copy"
   ]
  },
  {
   "cell_type": "code",
   "execution_count": 73,
   "id": "91a603a3-5473-4339-875f-f466bc99326f",
   "metadata": {},
   "outputs": [
    {
     "data": {
      "text/plain": [
       "['a', 'A', 'a', 'f', 'z', 'e', 'l']"
      ]
     },
     "execution_count": 73,
     "metadata": {},
     "output_type": "execute_result"
    }
   ],
   "source": [
    "list_a.append(\"l\")\n",
    "list_a"
   ]
  },
  {
   "cell_type": "code",
   "execution_count": 74,
   "id": "5a14d798-0704-4104-9660-9801bc769ab6",
   "metadata": {},
   "outputs": [
    {
     "data": {
      "text/plain": [
       "['a', 'A', 'a', 'f', 'z', 'e']"
      ]
     },
     "execution_count": 74,
     "metadata": {},
     "output_type": "execute_result"
    }
   ],
   "source": [
    "list_a_true_copy"
   ]
  },
  {
   "cell_type": "code",
   "execution_count": 79,
   "id": "6172330a-005a-435f-b8dc-343aaeb85771",
   "metadata": {},
   "outputs": [],
   "source": [
    "list_e = [\"columbia\"]\n",
    "list_f = [\"monday\", \"televsion\"]"
   ]
  },
  {
   "cell_type": "code",
   "execution_count": 81,
   "id": "f9d7b599-311e-43cd-a260-37a2bb59c8ee",
   "metadata": {},
   "outputs": [
    {
     "data": {
      "text/plain": [
       "['columbia', 'monday', 'televsion', 'monday', 'televsion']"
      ]
     },
     "execution_count": 81,
     "metadata": {},
     "output_type": "execute_result"
    }
   ],
   "source": [
    "#list_e.append(list_f) #this does NOT flatten\n",
    "list_e.extend(list_f) #explodes, flatten\n",
    "list_e"
   ]
  },
  {
   "cell_type": "code",
   "execution_count": 77,
   "id": "e42c1b13-ed23-42b8-9128-6acbf8c8e098",
   "metadata": {},
   "outputs": [
    {
     "data": {
      "text/plain": [
       "['columbia', ['monday', 'televsion']]"
      ]
     },
     "execution_count": 77,
     "metadata": {},
     "output_type": "execute_result"
    }
   ],
   "source": [
    "list_e"
   ]
  },
  {
   "cell_type": "code",
   "execution_count": 82,
   "id": "fdac8fb2-ee1b-4f5d-ac1d-ac934e3915c6",
   "metadata": {},
   "outputs": [
    {
     "name": "stdout",
     "output_type": "stream",
     "text": [
      "1\n",
      "2\n",
      "3\n",
      "4\n",
      "5\n"
     ]
    }
   ],
   "source": [
    "#looping statements\n",
    "t = [1, 2, 3, 4, 5]\n",
    "for i in t:\n",
    "    print (i)"
   ]
  },
  {
   "cell_type": "code",
   "execution_count": 86,
   "id": "f15c8d7c-5051-4206-a8fd-e9258a0dc19f",
   "metadata": {},
   "outputs": [
    {
     "name": "stdout",
     "output_type": "stream",
     "text": [
      "1\n",
      "2\n",
      "3\n",
      "4\n",
      "5\n",
      "6\n",
      "7\n",
      "8\n",
      "9\n"
     ]
    }
   ],
   "source": [
    "cnt = 1\n",
    "while cnt < 10:\n",
    "    print (cnt)\n",
    "    #cnt = cnt + 1\n",
    "    cnt += 1"
   ]
  },
  {
   "cell_type": "code",
   "execution_count": 87,
   "id": "f5fad000-4aa5-4e3e-a134-9caa636b4033",
   "metadata": {},
   "outputs": [],
   "source": [
    "\"\"\"\n",
    "create function that outputs a dictionary where each key is a unique token (word)\n",
    "and the value is the number of times that the unique key shows up in the string\n",
    "input: string\n",
    "output: dictionary\n",
    "\"\"\"\n",
    "def word_freq(str_in):\n",
    "    t_temp = dict()\n",
    "    i_split = str_in.split()\n",
    "    for word in set(i_split):\n",
    "        t_temp[word] = i_split.count(word)\n",
    "    return t_temp"
   ]
  },
  {
   "cell_type": "code",
   "execution_count": 91,
   "id": "4622631c-6153-4c2a-b31b-c4fe64cb9df2",
   "metadata": {},
   "outputs": [
    {
     "data": {
      "text/plain": [
       "{'up': 1,\n",
       " 'cat': 1,\n",
       " 'as': 1,\n",
       " 'best': 1,\n",
       " 'the': 3,\n",
       " 'came': 1,\n",
       " 'friends': 1,\n",
       " 'and': 1,\n",
       " 'dog': 1,\n",
       " 'chased': 1,\n",
       " 'down': 1,\n",
       " 'hill': 1,\n",
       " 'they': 1}"
      ]
     },
     "execution_count": 91,
     "metadata": {},
     "output_type": "execute_result"
    }
   ],
   "source": [
    "test_in = \"The cat chased the dog up the hill and they came down as best friends\"\n",
    "\n",
    "dictionary_fun = word_freq(test_in.lower())\n",
    "dictionary_fun"
   ]
  },
  {
   "cell_type": "code",
   "execution_count": 96,
   "id": "0bbde4a9-38e4-4409-a2c1-6375613a5101",
   "metadata": {},
   "outputs": [
    {
     "data": {
      "text/plain": [
       "{'the': 3,\n",
       " 'cat': 1,\n",
       " 'chased': 1,\n",
       " 'dog': 1,\n",
       " 'up': 1,\n",
       " 'hill': 1,\n",
       " 'and': 1,\n",
       " 'they': 1,\n",
       " 'came': 1,\n",
       " 'down': 1,\n",
       " 'as': 1,\n",
       " 'best': 1,\n",
       " 'friends': 1}"
      ]
     },
     "execution_count": 96,
     "metadata": {},
     "output_type": "execute_result"
    }
   ],
   "source": [
    "test_in = \"the cat chased the dog up the hill and they came down as best friends\"\n",
    "def word_freq_eff(str_in):\n",
    "    import collections\n",
    "    wrd_freq_t = dict(collections.Counter(str_in.split()))\n",
    "    return wrd_freq_t\n",
    "wrd_freq = word_freq_eff(test_in)\n",
    "wrd_freq"
   ]
  },
  {
   "cell_type": "code",
   "execution_count": 99,
   "id": "32440892-02c5-421d-aace-17a0a00c3ee4",
   "metadata": {},
   "outputs": [
    {
     "name": "stdout",
     "output_type": "stream",
     "text": [
      "{'the': 1, 'class': 1, 'was': 1, 'fun': 1, 'tonight': 1}\n"
     ]
    }
   ],
   "source": [
    "dgvfs = \"the class was fun tonight\"\n",
    "print (word_freq_eff(dgvfs))"
   ]
  },
  {
   "cell_type": "code",
   "execution_count": 105,
   "id": "8ff5729c-01d9-4162-951f-8eda39dd42db",
   "metadata": {},
   "outputs": [],
   "source": [
    "import pandas as pd\n",
    "my_pd = pd.DataFrame()\n",
    "#type(my_pd)\n",
    "#len(my_pd)\n",
    "\n",
    "t_l = [\"patrick\", \"john\", \"sally\", \"sue\"]\n",
    "#populate a pandas dataframe, where column is name and the other\n",
    "#char length of the name\n",
    "for name in t_l:\n",
    "    tmp = pd.DataFrame({\"name\": name, \"length\": len(name)}, index=[0])\n",
    "    my_pd = pd.concat([my_pd, tmp], ignore_index=True)"
   ]
  },
  {
   "cell_type": "code",
   "execution_count": 109,
   "id": "1659e453-21a8-469f-9bc6-989876f8930b",
   "metadata": {},
   "outputs": [
    {
     "data": {
      "text/html": [
       "<div>\n",
       "<style scoped>\n",
       "    .dataframe tbody tr th:only-of-type {\n",
       "        vertical-align: middle;\n",
       "    }\n",
       "\n",
       "    .dataframe tbody tr th {\n",
       "        vertical-align: top;\n",
       "    }\n",
       "\n",
       "    .dataframe thead th {\n",
       "        text-align: right;\n",
       "    }\n",
       "</style>\n",
       "<table border=\"1\" class=\"dataframe\">\n",
       "  <thead>\n",
       "    <tr style=\"text-align: right;\">\n",
       "      <th></th>\n",
       "      <th>name</th>\n",
       "      <th>length</th>\n",
       "    </tr>\n",
       "  </thead>\n",
       "  <tbody>\n",
       "    <tr>\n",
       "      <th>3</th>\n",
       "      <td>sue</td>\n",
       "      <td>3</td>\n",
       "    </tr>\n",
       "  </tbody>\n",
       "</table>\n",
       "</div>"
      ],
      "text/plain": [
       "  name  length\n",
       "3  sue       3"
      ]
     },
     "execution_count": 109,
     "metadata": {},
     "output_type": "execute_result"
    }
   ],
   "source": [
    "my_pd.tail(1)"
   ]
  },
  {
   "cell_type": "code",
   "execution_count": 110,
   "id": "372eb7be-3b1b-4129-af1e-5f313b4c03d9",
   "metadata": {},
   "outputs": [],
   "source": [
    "stats = my_pd.describe()"
   ]
  },
  {
   "cell_type": "code",
   "execution_count": 111,
   "id": "0ca2cf9c-1a13-432f-bd2e-469c86b558dd",
   "metadata": {},
   "outputs": [
    {
     "data": {
      "text/html": [
       "<div>\n",
       "<style scoped>\n",
       "    .dataframe tbody tr th:only-of-type {\n",
       "        vertical-align: middle;\n",
       "    }\n",
       "\n",
       "    .dataframe tbody tr th {\n",
       "        vertical-align: top;\n",
       "    }\n",
       "\n",
       "    .dataframe thead th {\n",
       "        text-align: right;\n",
       "    }\n",
       "</style>\n",
       "<table border=\"1\" class=\"dataframe\">\n",
       "  <thead>\n",
       "    <tr style=\"text-align: right;\">\n",
       "      <th></th>\n",
       "      <th>length</th>\n",
       "    </tr>\n",
       "  </thead>\n",
       "  <tbody>\n",
       "    <tr>\n",
       "      <th>count</th>\n",
       "      <td>4.000000</td>\n",
       "    </tr>\n",
       "    <tr>\n",
       "      <th>mean</th>\n",
       "      <td>4.750000</td>\n",
       "    </tr>\n",
       "    <tr>\n",
       "      <th>std</th>\n",
       "      <td>1.707825</td>\n",
       "    </tr>\n",
       "    <tr>\n",
       "      <th>min</th>\n",
       "      <td>3.000000</td>\n",
       "    </tr>\n",
       "    <tr>\n",
       "      <th>25%</th>\n",
       "      <td>3.750000</td>\n",
       "    </tr>\n",
       "    <tr>\n",
       "      <th>50%</th>\n",
       "      <td>4.500000</td>\n",
       "    </tr>\n",
       "    <tr>\n",
       "      <th>75%</th>\n",
       "      <td>5.500000</td>\n",
       "    </tr>\n",
       "    <tr>\n",
       "      <th>max</th>\n",
       "      <td>7.000000</td>\n",
       "    </tr>\n",
       "  </tbody>\n",
       "</table>\n",
       "</div>"
      ],
      "text/plain": [
       "         length\n",
       "count  4.000000\n",
       "mean   4.750000\n",
       "std    1.707825\n",
       "min    3.000000\n",
       "25%    3.750000\n",
       "50%    4.500000\n",
       "75%    5.500000\n",
       "max    7.000000"
      ]
     },
     "execution_count": 111,
     "metadata": {},
     "output_type": "execute_result"
    }
   ],
   "source": [
    "stats"
   ]
  },
  {
   "cell_type": "code",
   "execution_count": 112,
   "id": "83f0e50d-1d8a-4e92-be40-89d7ce751dce",
   "metadata": {},
   "outputs": [
    {
     "data": {
      "text/plain": [
       "Index(['name', 'length'], dtype='object')"
      ]
     },
     "execution_count": 112,
     "metadata": {},
     "output_type": "execute_result"
    }
   ],
   "source": [
    "my_pd.columns"
   ]
  },
  {
   "cell_type": "code",
   "execution_count": 113,
   "id": "9461fb92-889a-4dff-aee9-dcd55512df2a",
   "metadata": {},
   "outputs": [],
   "source": [
    "my_pd.columns = [\"name\", \"char_length\"]"
   ]
  },
  {
   "cell_type": "code",
   "execution_count": 117,
   "id": "c59b0138-ec37-49b5-8331-e54a2e551d85",
   "metadata": {},
   "outputs": [
    {
     "data": {
      "text/plain": [
       "1.707825127659933"
      ]
     },
     "execution_count": 117,
     "metadata": {},
     "output_type": "execute_result"
    }
   ],
   "source": [
    "my_pd[\"char_length\"].std()"
   ]
  },
  {
   "cell_type": "code",
   "execution_count": null,
   "id": "46f97d98-5923-48ce-95c3-e203cf13a8a2",
   "metadata": {},
   "outputs": [],
   "source": [
    "#data slicing, r/w to/from files"
   ]
  }
 ],
 "metadata": {
  "kernelspec": {
   "display_name": "Python 3 (ipykernel)",
   "language": "python",
   "name": "python3"
  },
  "language_info": {
   "codemirror_mode": {
    "name": "ipython",
    "version": 3
   },
   "file_extension": ".py",
   "mimetype": "text/x-python",
   "name": "python",
   "nbconvert_exporter": "python",
   "pygments_lexer": "ipython3",
   "version": "3.11.8"
  }
 },
 "nbformat": 4,
 "nbformat_minor": 5
}
