{
 "cells": [
  {
   "cell_type": "code",
   "execution_count": 16,
   "metadata": {},
   "outputs": [
    {
     "name": "stderr",
     "output_type": "stream",
     "text": [
      "[nltk_data] Downloading package vader_lexicon to\n",
      "[nltk_data]     /Users/xuhanyi/nltk_data...\n",
      "[nltk_data]   Package vader_lexicon is already up-to-date!\n",
      "[nltk_data] Downloading package punkt to /Users/xuhanyi/nltk_data...\n",
      "[nltk_data]   Package punkt is already up-to-date!\n"
     ]
    },
    {
     "data": {
      "text/plain": [
       "True"
      ]
     },
     "execution_count": 16,
     "metadata": {},
     "output_type": "execute_result"
    }
   ],
   "source": [
    "import nltk\n",
    "import pandas as pd\n",
    "nltk.download('vader_lexicon')\n",
    "nltk.download('punkt')\n",
    "\n"
   ]
  },
  {
   "cell_type": "code",
   "execution_count": 7,
   "metadata": {},
   "outputs": [],
   "source": [
    "from nrclex import NRCLex"
   ]
  },
  {
   "cell_type": "code",
   "execution_count": null,
   "metadata": {},
   "outputs": [],
   "source": [
    "def analyze_emotions(text):\n",
    "    emotion_analyzer = NRCLex(text)\n",
    "    \n",
    "    emotions = emotion_analyzer.raw_emotion_scores\n",
    "    total_words = sum(emotions.values())\n",
    "    \n",
    "    emotion_percentages = {emotion: count / total_words for emotion, count in emotions.items()}\n",
    "    \n",
    "    return emotion_percentages\n"
   ]
  },
  {
   "cell_type": "code",
   "execution_count": 37,
   "metadata": {},
   "outputs": [],
   "source": [
    "df = pd.read_csv(\"Book1.csv\")\n",
    "responses = df[\"responses\"].tolist()\n"
   ]
  },
  {
   "cell_type": "code",
   "execution_count": null,
   "metadata": {},
   "outputs": [
    {
     "name": "stdout",
     "output_type": "stream",
     "text": [
      "Text: I did enjoy this lesson. I liked hoe I learned so much about the things that happened in the Syracuse community and not just on campus. I like learned about how it effected communities and the population of all of Syracuse. I wish we learned a little bit more about how it effected Syracuse University itself and its population, and the students.\n",
      "Emotion Scores: {'anticipation': 0.2, 'joy': 0.1, 'positive': 0.5, 'trust': 0.2} \n",
      "\n",
      "Text: The layout was easy to navigate which allowed the overall lesson to be more effective.\n",
      "Emotion Scores: {'anticipation': 0.2, 'positive': 0.4, 'trust': 0.4} \n",
      "\n",
      "Text: It was a bit repetitive in the questions.\n",
      "Emotion Scores: {} \n",
      "\n",
      "Text: Personally, I found it 50/50. The reason for this is because I find it a little long. As of the in-class work, I was able to get through almost half. Some of the questions are repetitive and should be changed and I think less articles should be given as they are a little time consuming. The other 50, I did enjoy. The reason for this is because I got to learn a lot about the history of the highway I take to get to school, the history of the 15th ward and black community and overall history of Syracuse that I did not know about.\n",
      "Emotion Scores: {'joy': 0.125, 'positive': 0.375, 'trust': 0.1875, 'anticipation': 0.1875, 'negative': 0.0625, 'sadness': 0.0625} \n",
      "\n",
      "Text: Yes I enjoyed this lesson. I enjoyed learning about my community and the history of what has happened\n",
      "Emotion Scores: {'anticipation': 0.2, 'positive': 0.6, 'trust': 0.2} \n",
      "\n",
      "Text: Yes, I enjoyed this lesson. It taught me more about the Syracuse community and what has happened to people living here in the past. I've heard stories about highway 81 but never knew the affect it had on the community in the past. I believe this lesson is enjoyable for those who want to use math to solve real world issues. Overall, I liked this lesson.\n",
      "Emotion Scores: {'anticipation': 0.21428571428571427, 'positive': 0.42857142857142855, 'trust': 0.35714285714285715} \n",
      "\n",
      "Text: Yes, I enjoyed this lesson because I got to learn about the city I go to school in, and also explore the history of Black people in Syracuse. I didn't like how the questions forced me to give repetitive answers since they were asking for very similar responses, but it did also help me grasp a greater understanding of the topic.\n",
      "Emotion Scores: {'anticipation': 0.18181818181818182, 'positive': 0.36363636363636365, 'trust': 0.2727272727272727, 'fear': 0.09090909090909091, 'negative': 0.09090909090909091} \n",
      "\n",
      "Text: I did enjoy this lesson. I like to analyze and write about things, particularly historical events. It also relates to me given that I attend school here so I feel I have some obligation to understand the history of my community and the highway I use to go back home.\n",
      "Emotion Scores: {'anticipation': 0.2222222222222222, 'joy': 0.1111111111111111, 'positive': 0.3333333333333333, 'trust': 0.3333333333333333} \n",
      "\n",
      "Text: Lesson was good and informative, I learned about a lot about the history of Syracuse that I wasn't aware of. This lab wasn't as math focused as I expected, but it was interactive and gave us a chance to analyze and think about the cause and effect of building I-81.\n",
      "Emotion Scores: {'anticipation': 0.25, 'joy': 0.125, 'positive': 0.25, 'surprise': 0.25, 'trust': 0.125} \n",
      "\n",
      "Text: This lesson was good because it provided history context to Syracuse's architecture. But I'll be honest I didn't like it because this lesson didn't really make sense being in a math class. Then again I didn't fully complete the lesson yet so I'm not sure how much of an opinion I have formed.\n",
      "Emotion Scores: {'anticipation': 0.16, 'positive': 0.28, 'trust': 0.28, 'joy': 0.08, 'surprise': 0.04, 'anger': 0.04, 'disgust': 0.04, 'fear': 0.04, 'sadness': 0.04} \n",
      "\n",
      "Text: I enjoyed learning more about Syracuse since it is a place that I have been basically living for quite some time. I have been for a while and still wasn't very educated on the city. Unfortunately, I wish the history wasn't so devastating to those who live here or have lived here.\n",
      "Emotion Scores: {'positive': 0.2222222222222222, 'anticipation': 0.1111111111111111, 'anger': 0.1111111111111111, 'disgust': 0.1111111111111111, 'fear': 0.1111111111111111, 'negative': 0.1111111111111111, 'sadness': 0.1111111111111111, 'trust': 0.1111111111111111} \n",
      "\n",
      "Text: I have mixed feelings about this assignment. I feel that is an important thing to know about but I feel that it is an unnecessary assignment for a pre-calculus class. It is very hard to interact as a group since it is a lot of personal views on questions. It is also hard to interact with the presentation from new house but it is a cool presentation.\n",
      "Emotion Scores: {'positive': 0.5, 'trust': 0.5} \n",
      "\n",
      "Text: I think it was very important. I think it's a very important part of Syracuse's history. I believe that history itself is very important because there's always a lesson to be learned, and if we fail to learn said lesson, we are doomed to repeat it. I think that knowing the reason behind the destruction of the 15th ward and the supposed benefit of I-81 and disregard for the community it directly affected is important to know and hopefully inspires some change for the better. I didn't like how long the whole thing was in general especially the long math sections.\n",
      "Emotion Scores: {'positive': 0.4, 'trust': 0.23333333333333334, 'anticipation': 0.13333333333333333, 'fear': 0.06666666666666667, 'negative': 0.1, 'sadness': 0.03333333333333333, 'anger': 0.03333333333333333} \n",
      "\n",
      "Text: It was a good lesson and help me learn a lot more about Syracuse community but it was very repetitive.\n",
      "Emotion Scores: {'anticipation': 0.2, 'joy': 0.1, 'positive': 0.4, 'surprise': 0.1, 'trust': 0.2} \n",
      "\n",
      "Text: I did enjoy this activity because it brought more attention to issues surrounding Syracuse that I hadn't really known much about just by being here for my first year. I think it was pretty long as my group barely finished in time for the end of class. The long response questions were really repetitive and could be cut down significantly. There were a good amount of math questions but it was doable and not too difficult that we could work through them together in enough time. The most time-constraining parts were the long responses and watching the videos. We just didn't have class time for that.\n",
      "Emotion Scores: {'anticipation': 0.42857142857142855, 'joy': 0.14285714285714285, 'positive': 0.19047619047619047, 'trust': 0.14285714285714285, 'surprise': 0.047619047619047616, 'fear': 0.047619047619047616} \n",
      "\n",
      "Text: I thought this lesson was good. It was a nice change of pace from regular class. Some of the questions were repetitive which caused the assignment to be too long. Those repetitive questions can be joined to form one question to save time and increase the quality of the answers. Highlighting was not the best use of time because it did take a long time. The new house resource was really cool. The math was not hard but answering the volume of questions that were given too us in the time allowed was too much. I found myself rushing through questions.\n",
      "Emotion Scores: {'anticipation': 0.34615384615384615, 'positive': 0.3076923076923077, 'trust': 0.15384615384615385, 'joy': 0.11538461538461539, 'surprise': 0.038461538461538464, 'fear': 0.038461538461538464} \n",
      "\n",
      "Text: Yes I enjoyed this lesson. I liked the fact that math was connected to the city Syracuse and how its population and community has been affected. There wasn't anything I didn't like about this lab, I found it to be engaging.\n",
      "Emotion Scores: {'anticipation': 0.08333333333333333, 'positive': 0.4166666666666667, 'trust': 0.3333333333333333, 'joy': 0.16666666666666666} \n",
      "\n",
      "Text: Yes, I did enjoy this lesson because I was able to combine social justice and math concepts\n",
      "Emotion Scores: {'anticipation': 0.2222222222222222, 'joy': 0.1111111111111111, 'positive': 0.3333333333333333, 'trust': 0.3333333333333333} \n",
      "\n",
      "Text: It was interesting to learn the history of Syracuse and how I-81 has impacted the communities around it. There were a lot of interesting articles however, they were kind of repetitive. The lab is kind of long and hard to get through in one class period cause a lot of it is rushed, some questions were pretty repetitive. (15 and 16 could have been one question, along with a couple others)\n",
      "Emotion Scores: {'positive': 0.4666666666666667, 'joy': 0.2, 'trust': 0.2, 'anticipation': 0.13333333333333333} \n",
      "\n",
      "Text: Yes I enjoyed this lesson, it was very informational and taught a crucial topic to students about what is happening outside of this campus and the history of the city we reside in.\n",
      "Emotion Scores: {'anticipation': 0.16666666666666666, 'positive': 0.3333333333333333, 'trust': 0.5} \n",
      "\n",
      "Text: Yes I enjoyed this activity. It was very eye opening and even made me relate with some of the things I heard and or read about in this activity.\n",
      "Emotion Scores: {} \n",
      "\n",
      "Text: This lesson was nice because it is nice to see how maths can be applied in real life outside of the classroom. It was slightly inconvenient that to find the information I have to click back.\n",
      "Emotion Scores: {'anticipation': 0.1, 'positive': 0.3, 'trust': 0.2, 'anger': 0.1, 'disgust': 0.1, 'negative': 0.1, 'sadness': 0.1} \n",
      "\n",
      "Text: I didn't enjoy it all that much. it was informative and eye opening. it was undesirably time consuming.\n",
      "Emotion Scores: {'anticipation': 0.4, 'joy': 0.2, 'positive': 0.2, 'trust': 0.2} \n",
      "\n",
      "Text: I thought it was interesting; I learned a lot more about where I live now and I think its history of discrimination strongly relates to where I grew up from in Levittown.\n",
      "Emotion Scores: {'anticipation': 0.125, 'positive': 0.25, 'anger': 0.125, 'disgust': 0.125, 'fear': 0.125, 'negative': 0.125, 'sadness': 0.125} \n",
      "\n"
     ]
    }
   ],
   "source": [
    "\n",
    "for response in responses:\n",
    "    emotion_scores = analyze_emotions(response)\n",
    "    print(f\"Text: {response}\")\n",
    "    print(\"Emotion Scores:\", emotion_scores, \"\\n\")\n"
   ]
  },
  {
   "cell_type": "code",
   "execution_count": null,
   "metadata": {},
   "outputs": [
    {
     "name": "stdout",
     "output_type": "stream",
     "text": [
      "Text: It feels like there is a large amount of diversity in the Syracuse community...\n",
      "Dominant Emotion: positive, Score: 1.0000\n",
      "\n",
      "Text: I feel isolated in this environment...\n",
      "Dominant Emotion: fear, Score: 0.3333\n",
      "\n",
      "Text: Just a simple sentence.\n",
      "Dominant Emotion: anger, Score: 0.1667\n",
      "\n",
      "Text: Unrelated words without emotional context.\n",
      "Dominant Emotion: anger, Score: 0.5000\n",
      "\n"
     ]
    }
   ],
   "source": [
    "for response in responses:\n",
    "    emotion_scores = analyze_emotions(response)\n",
    "    \n",
    "    if emotion_scores:\n",
    "        dominant_emotion = max(emotion_scores, key=emotion_scores.get)\n",
    "        print(f\"Text: {response}\")\n",
    "        print(f\"Dominant Emotion: {dominant_emotion}, Score: {emotion_scores[dominant_emotion]:.4f}\\n\")\n",
    "    else:\n",
    "        print(f\"Text: {response}\")\n",
    "        print(\"No emotions detected in this text.\\n\")\n",
    "\n"
   ]
  },
  {
   "cell_type": "code",
   "execution_count": null,
   "metadata": {},
   "outputs": [],
   "source": []
  }
 ],
 "metadata": {
  "kernelspec": {
   "display_name": "base",
   "language": "python",
   "name": "python3"
  },
  "language_info": {
   "codemirror_mode": {
    "name": "ipython",
    "version": 3
   },
   "file_extension": ".py",
   "mimetype": "text/x-python",
   "name": "python",
   "nbconvert_exporter": "python",
   "pygments_lexer": "ipython3",
   "version": "3.10.14"
  }
 },
 "nbformat": 4,
 "nbformat_minor": 2
}
