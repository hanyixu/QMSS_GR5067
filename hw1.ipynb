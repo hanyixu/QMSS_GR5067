{
  "cells": [
    {
      "cell_type": "code",
      "execution_count": 1,
      "id": "fac2e730",
      "metadata": {
        "colab": {
          "base_uri": "https://localhost:8080/"
        },
        "id": "fac2e730",
        "outputId": "322d6310-6fdf-4a71-b5e4-d20754fae198"
      },
      "outputs": [
        {
          "output_type": "stream",
          "name": "stdout",
          "text": [
            "0\n",
            "2\n",
            "4\n",
            "6\n",
            "8\n",
            "10\n",
            "12\n",
            "14\n",
            "16\n",
            "18\n",
            "20\n",
            "22\n",
            "24\n",
            "26\n",
            "28\n",
            "30\n",
            "32\n",
            "34\n",
            "36\n",
            "38\n",
            "40\n",
            "42\n",
            "44\n",
            "46\n",
            "48\n",
            "50\n",
            "52\n",
            "54\n",
            "56\n",
            "58\n",
            "60\n",
            "62\n",
            "64\n",
            "66\n",
            "68\n",
            "70\n",
            "72\n",
            "74\n",
            "76\n",
            "78\n",
            "80\n",
            "82\n",
            "84\n",
            "86\n",
            "88\n",
            "90\n",
            "92\n",
            "94\n",
            "96\n",
            "98\n",
            "100\n"
          ]
        }
      ],
      "source": [
        "\"\"\"\n",
        "1. Modify the code below to count 'up' in increments of +2\n",
        "\"\"\"\n",
        "for word in range(0, 101, 2):\n",
        "    print (word)"
      ]
    },
    {
      "cell_type": "code",
      "execution_count": 2,
      "id": "1c41089d",
      "metadata": {
        "colab": {
          "base_uri": "https://localhost:8080/"
        },
        "id": "1c41089d",
        "outputId": "a9c9cb5d-b82c-4abf-86a6-5f9692648403"
      },
      "outputs": [
        {
          "output_type": "stream",
          "name": "stdout",
          "text": [
            "100\n",
            "98\n",
            "96\n",
            "94\n",
            "92\n",
            "90\n",
            "88\n",
            "86\n",
            "84\n",
            "82\n",
            "80\n",
            "78\n",
            "76\n",
            "74\n",
            "72\n",
            "70\n",
            "68\n",
            "66\n",
            "64\n",
            "62\n",
            "60\n",
            "58\n",
            "56\n",
            "54\n",
            "52\n",
            "50\n",
            "48\n",
            "46\n",
            "44\n",
            "42\n",
            "40\n",
            "38\n",
            "36\n",
            "34\n",
            "32\n",
            "30\n",
            "28\n",
            "26\n",
            "24\n",
            "22\n",
            "20\n",
            "18\n",
            "16\n",
            "14\n",
            "12\n",
            "10\n",
            "8\n",
            "6\n",
            "4\n",
            "2\n",
            "0\n"
          ]
        }
      ],
      "source": [
        "\"\"\"\n",
        "2. Change the code below to count down in increments of -2.0\n",
        "\"\"\"\n",
        "for word in range(100, -1, -2):\n",
        "    print (word)"
      ]
    },
    {
      "cell_type": "code",
      "execution_count": 3,
      "id": "52aa82be",
      "metadata": {
        "id": "52aa82be",
        "outputId": "25b7bea3-ee2e-4794-dd97-401c87317cac",
        "colab": {
          "base_uri": "https://localhost:8080/"
        }
      },
      "outputs": [
        {
          "output_type": "stream",
          "name": "stdout",
          "text": [
            "World\n",
            "World\n",
            "World\n",
            "World\n",
            "World\n",
            "World\n",
            "World\n",
            "World\n",
            "World\n",
            "World\n",
            "World\n",
            "World\n",
            "World\n",
            "World\n",
            "World\n",
            "World\n",
            "World\n",
            "World\n",
            "World\n",
            "World\n",
            "World\n",
            "World\n",
            "World\n",
            "World\n",
            "World\n",
            "World\n",
            "World\n",
            "World\n",
            "World\n",
            "World\n",
            "World\n",
            "World\n",
            "World\n",
            "World\n",
            "World\n",
            "World\n",
            "World\n",
            "World\n",
            "World\n",
            "World\n",
            "World\n",
            "World\n",
            "World\n",
            "World\n",
            "World\n",
            "World\n",
            "World\n",
            "World\n",
            "World\n",
            "World\n",
            "World\n",
            "Hello\n",
            "Hello\n",
            "Hello\n",
            "Hello\n",
            "Hello\n",
            "Hello\n",
            "Hello\n",
            "Hello\n",
            "Hello\n",
            "Hello\n",
            "Hello\n",
            "Hello\n",
            "Hello\n",
            "Hello\n",
            "Hello\n",
            "Hello\n",
            "Hello\n",
            "Hello\n",
            "Hello\n",
            "Hello\n",
            "Hello\n",
            "Hello\n",
            "Hello\n",
            "Hello\n",
            "Hello\n",
            "Hello\n",
            "Hello\n",
            "Hello\n",
            "Hello\n",
            "Hello\n",
            "Hello\n",
            "Hello\n",
            "Hello\n",
            "Hello\n",
            "Hello\n",
            "Hello\n",
            "Hello\n",
            "Hello\n",
            "Hello\n",
            "Hello\n",
            "Hello\n",
            "Hello\n",
            "Hello\n",
            "Hello\n",
            "Hello\n",
            "Hello\n",
            "Hello\n",
            "Hello\n",
            "Hello\n",
            "Hello\n"
          ]
        }
      ],
      "source": [
        "\"\"\"\n",
        "3. Create a program that counts up from 0 to 100.  The program is to print \"Hello\"\n",
        "when the count is greater than 50 and print \"World\" when the count is less then or equal to 50\n",
        "\"\"\"\n",
        "for count in range(0, 101):\n",
        "    if count > 50:\n",
        "        print(\"Hello\")\n",
        "    else:\n",
        "        print(\"World\")\n"
      ]
    },
    {
      "cell_type": "code",
      "source": [
        "\"\"\"\n",
        "4. Create a function called char_cnt that takes in a string and outputs a dictionary where\n",
        "each key represents a unique character and the value is the number of times that character\n",
        "shows up in the string\n",
        "\"\"\"\n",
        "\n",
        "def char_cnt(a):\n",
        "  out = {}\n",
        "  for i in a:\n",
        "    if i in out:\n",
        "      out[i] += 1\n",
        "    else:\n",
        "      out[i] = 1\n",
        "  return out"
      ],
      "metadata": {
        "id": "DHNUnBZeGR_e"
      },
      "id": "DHNUnBZeGR_e",
      "execution_count": 4,
      "outputs": []
    },
    {
      "cell_type": "code",
      "execution_count": 5,
      "id": "9f000203",
      "metadata": {
        "id": "9f000203"
      },
      "outputs": [],
      "source": [
        "\"\"\"\n",
        "5.  create a function called rev_list that takes a list as an input and reverses the elements\n",
        "of a that list, you must use a loop statement or sorts, and you cannot use .reverse() or [::-1]\n",
        "\"\"\"\n",
        "\n",
        "def rev_list(a):\n",
        "  out = []\n",
        "  for i in a:\n",
        "    out =  [i] + out\n",
        "  return out"
      ]
    },
    {
      "cell_type": "code",
      "execution_count": 6,
      "id": "f0a9343f",
      "metadata": {
        "id": "f0a9343f",
        "colab": {
          "base_uri": "https://localhost:8080/"
        },
        "outputId": "33e394f1-0643-4789-e5e6-31efb9d833cf"
      },
      "outputs": [
        {
          "output_type": "execute_result",
          "data": {
            "text/plain": [
              "['student', 'above', 'beyond', 'homework']"
            ]
          },
          "metadata": {},
          "execution_count": 6
        }
      ],
      "source": [
        "\"\"\"\n",
        "6. Using list comprehension (HINT: []) populate an array whose individual word\n",
        "character lengths are >= 5 (10 points)\n",
        "\"\"\"\n",
        "the_sentence = 'the student went above and beyond the call of duty on the homework'\n",
        "\n",
        "out = []\n",
        "tokens = the_sentence.split(\" \")\n",
        "for i in tokens:\n",
        "  if len(i) >= 5:\n",
        "    out += [i]\n",
        "out"
      ]
    },
    {
      "cell_type": "code",
      "execution_count": 7,
      "id": "1598d464",
      "metadata": {
        "id": "1598d464",
        "outputId": "69b3fe8d-23fc-47da-81bb-fb5d01bb3b3b",
        "colab": {
          "base_uri": "https://localhost:8080/",
          "height": 37
        }
      },
      "outputs": [
        {
          "output_type": "execute_result",
          "data": {
            "text/plain": [
              "'the orange cat jumped over the turtle, but the orange cat landed on another orange cat'"
            ],
            "application/vnd.google.colaboratory.intrinsic+json": {
              "type": "string"
            }
          },
          "metadata": {},
          "execution_count": 7
        }
      ],
      "source": [
        "\"\"\"\n",
        "7. Fix the errors in the code below and replace the word dog with turtle\n",
        "\"\"\"\n",
        "import re\n",
        "the_sentence = 'the orange cat jumped over the dog, but the orange cat landed on another orange cat'\n",
        "\n",
        "my_ar = re.sub('dog', 'turtle', the_sentence)\n",
        "\n",
        "my_ar"
      ]
    },
    {
      "cell_type": "code",
      "execution_count": 8,
      "id": "5b4330d2",
      "metadata": {
        "id": "5b4330d2",
        "outputId": "8965aae7-4b4c-4445-c682-d878c640d4fd",
        "colab": {
          "base_uri": "https://localhost:8080/"
        }
      },
      "outputs": [
        {
          "output_type": "execute_result",
          "data": {
            "text/plain": [
              "['woah!!!',\n",
              " 'the',\n",
              " 'student',\n",
              " 'really',\n",
              " 'impressed',\n",
              " 'me',\n",
              " 'and',\n",
              " 'so',\n",
              " 'did',\n",
              " 'you!!!']"
            ]
          },
          "metadata": {},
          "execution_count": 8
        }
      ],
      "source": [
        "\"\"\"\n",
        "8. Create a function called cln_txt that takes a list as an input, the\n",
        "list will contain tokens, your job is to replace any special characters with\n",
        "a no space, except '!', with ''\n",
        "\"\"\"\n",
        "\n",
        "the_ar = ['woah!!!','the','@student',' really^','# impressed','me,','and&','so','did','??you!!!']\n",
        "\n",
        "def cln_txt(a):\n",
        "    out = []\n",
        "    for i in a:\n",
        "      cleaned = re.sub(r'[^a-zA-Z0-9!]', '', i)\n",
        "      out.append(cleaned)\n",
        "    return out\n",
        "\n",
        "cln_txt(the_ar)"
      ]
    },
    {
      "cell_type": "code",
      "execution_count": 9,
      "id": "6172ca70",
      "metadata": {
        "id": "6172ca70",
        "colab": {
          "base_uri": "https://localhost:8080/"
        },
        "outputId": "73378fa7-2bdc-406a-b3b5-becb926db588"
      },
      "outputs": [
        {
          "output_type": "stream",
          "name": "stdout",
          "text": [
            "5  odd\n",
            "10  even\n",
            "9  odd\n",
            "6  even\n",
            "1  odd\n",
            "8  even\n",
            "4  even\n",
            "5  odd\n",
            "4  even\n",
            "3  odd\n"
          ]
        }
      ],
      "source": [
        "\"\"\"\n",
        "9. Create a program that loops 10 times and for each loop generate a random integer between 1 and 10,\n",
        "and print 'even' if the number is even and 'odd' if the number is odd (HINT: import random)\n",
        "if the number is odd\n",
        "\"\"\"\n",
        "import random\n",
        "for i in range(1, 11):\n",
        "  out = random.randint(1, 10)\n",
        "  if out%2 == 0:\n",
        "    print(out, \" even\")\n",
        "  else:\n",
        "    print(out, \" odd\")\n",
        "\n"
      ]
    },
    {
      "cell_type": "code",
      "execution_count": 10,
      "id": "0fed53a9",
      "metadata": {
        "id": "0fed53a9"
      },
      "outputs": [],
      "source": [
        "\"\"\"\n",
        "10. Create a function called the_cat which can accept two input strings, the output\n",
        "of the function will concatenate both string together, with a single space between and print\n",
        "the total length of the resultant string\n",
        "i.e. string_1 = \"john\", string_2 = \"doe\", function to output \"john doe\", 9\n",
        "\"\"\"\n",
        "\n",
        "def the_cat(a, b):\n",
        "  out = a + \" \" + b\n",
        "  return (out + \", \" + str(len(out)))\n",
        "  #I believe the return type should be a string."
      ]
    }
  ],
  "metadata": {
    "kernelspec": {
      "display_name": "Python 3 (ipykernel)",
      "language": "python",
      "name": "python3"
    },
    "language_info": {
      "codemirror_mode": {
        "name": "ipython",
        "version": 3
      },
      "file_extension": ".py",
      "mimetype": "text/x-python",
      "name": "python",
      "nbconvert_exporter": "python",
      "pygments_lexer": "ipython3",
      "version": "3.11.4"
    },
    "colab": {
      "provenance": []
    }
  },
  "nbformat": 4,
  "nbformat_minor": 5
}