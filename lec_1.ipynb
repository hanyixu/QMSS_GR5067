{
 "cells": [
  {
   "cell_type": "code",
   "execution_count": 2,
   "id": "4bc7a829-2e0d-4f21-a2aa-fed605bb5381",
   "metadata": {},
   "outputs": [],
   "source": [
    "#inline comment"
   ]
  },
  {
   "cell_type": "code",
   "execution_count": 3,
   "id": "95d77918-b188-4037-88d6-0cbff65886be",
   "metadata": {},
   "outputs": [
    {
     "data": {
      "text/plain": [
       "'\\nMultiline\\ncomment\\nyeah\\n'"
      ]
     },
     "execution_count": 3,
     "metadata": {},
     "output_type": "execute_result"
    }
   ],
   "source": [
    "\"\"\"\n",
    "Multiline\n",
    "comment\n",
    "yeah\n",
    "\"\"\""
   ]
  },
  {
   "cell_type": "code",
   "execution_count": 4,
   "id": "f903bc60-c820-4aa5-9769-68161b336ca6",
   "metadata": {},
   "outputs": [
    {
     "name": "stdout",
     "output_type": "stream",
     "text": [
      "hello world!\n"
     ]
    }
   ],
   "source": [
    "print (\"hello world!\")"
   ]
  },
  {
   "cell_type": "code",
   "execution_count": 5,
   "id": "20c40ee1-ee5d-454a-b850-3e251cb6a28e",
   "metadata": {},
   "outputs": [
    {
     "name": "stdout",
     "output_type": "stream",
     "text": [
      "hello world! 10 3.14\n"
     ]
    }
   ],
   "source": [
    "print (\"hello world!\", 10, 3.14)"
   ]
  },
  {
   "cell_type": "code",
   "execution_count": 6,
   "id": "bbf1af93-30c1-4278-bdcc-e4b815e35464",
   "metadata": {},
   "outputs": [],
   "source": [
    "#variables\n",
    "#string, integers, floats, boolean\n",
    "\n",
    "my_str = \"columbia\"\n",
    "my_o_str = \"Columbia\""
   ]
  },
  {
   "cell_type": "code",
   "execution_count": 8,
   "id": "8b390e7d-9116-4785-b29f-380768ccf850",
   "metadata": {},
   "outputs": [
    {
     "name": "stdout",
     "output_type": "stream",
     "text": [
      "columbia Columbia\n"
     ]
    }
   ],
   "source": [
    "print (my_str, my_o_str)"
   ]
  },
  {
   "cell_type": "code",
   "execution_count": 12,
   "id": "97aed936-a763-4be8-970a-776976832ff8",
   "metadata": {},
   "outputs": [
    {
     "data": {
      "text/plain": [
       "True"
      ]
     },
     "execution_count": 12,
     "metadata": {},
     "output_type": "execute_result"
    }
   ],
   "source": [
    "#string equivalency is done by ==\n",
    "my_str == my_o_str"
   ]
  },
  {
   "cell_type": "code",
   "execution_count": 15,
   "id": "456a6cda-541d-4433-80c2-b4d9542a6a51",
   "metadata": {},
   "outputs": [
    {
     "data": {
      "text/plain": [
       "True"
      ]
     },
     "execution_count": 15,
     "metadata": {},
     "output_type": "execute_result"
    }
   ],
   "source": [
    "my_o_str.lower() == my_str.lower()"
   ]
  },
  {
   "cell_type": "code",
   "execution_count": 17,
   "id": "0768e23a-5705-49ec-a040-1be7dd5189c4",
   "metadata": {},
   "outputs": [
    {
     "name": "stdout",
     "output_type": "stream",
     "text": [
      "columbia\n"
     ]
    }
   ],
   "source": [
    "my_o_str = my_o_str.lower()\n",
    "print (my_o_str)"
   ]
  },
  {
   "cell_type": "code",
   "execution_count": 19,
   "id": "85cfa6ad-9060-4c48-a5bc-f3c8f4f5a03f",
   "metadata": {},
   "outputs": [
    {
     "name": "stdout",
     "output_type": "stream",
     "text": [
      "columbia Columbia\n"
     ]
    }
   ],
   "source": [
    "#string concatenate\n",
    "str_cat = my_o_str + \" \" + my_str\n",
    "print (str_cat)"
   ]
  },
  {
   "cell_type": "code",
   "execution_count": 20,
   "id": "9e32cfb8-58bc-403f-8791-0965e5cb5b7f",
   "metadata": {},
   "outputs": [],
   "source": [
    "rep = str_cat*10"
   ]
  },
  {
   "cell_type": "code",
   "execution_count": 21,
   "id": "68757f5e-6d9c-4fed-9b8b-019f3fb756a7",
   "metadata": {},
   "outputs": [
    {
     "name": "stdout",
     "output_type": "stream",
     "text": [
      "columbia Columbiacolumbia Columbiacolumbia Columbiacolumbia Columbiacolumbia Columbiacolumbia Columbiacolumbia Columbiacolumbia Columbiacolumbia Columbiacolumbia Columbia\n"
     ]
    }
   ],
   "source": [
    "print (rep)"
   ]
  },
  {
   "cell_type": "code",
   "execution_count": 28,
   "id": "026a9386-b526-4bdc-8d4b-c5755a599831",
   "metadata": {},
   "outputs": [
    {
     "data": {
      "text/plain": [
       "8"
      ]
     },
     "execution_count": 28,
     "metadata": {},
     "output_type": "execute_result"
    }
   ],
   "source": [
    "my_str = \"columbia\"\n",
    "len(my_str)"
   ]
  },
  {
   "cell_type": "code",
   "execution_count": 29,
   "id": "9e8f782f-51b2-4d0b-a791-6cd6aa605225",
   "metadata": {},
   "outputs": [],
   "source": [
    "my_int = 1\n",
    "my_float = 3.14\n",
    "my_bool = True #False"
   ]
  },
  {
   "cell_type": "code",
   "execution_count": 33,
   "id": "3eecde60-b955-445b-b90b-248f0029e8fe",
   "metadata": {},
   "outputs": [
    {
     "data": {
      "text/plain": [
       "str"
      ]
     },
     "execution_count": 33,
     "metadata": {},
     "output_type": "execute_result"
    }
   ],
   "source": [
    "type(my_str)"
   ]
  },
  {
   "cell_type": "code",
   "execution_count": 34,
   "id": "361cffa8-9f64-49b0-ac2d-1a8946f581c9",
   "metadata": {},
   "outputs": [
    {
     "ename": "TypeError",
     "evalue": "can only concatenate str (not \"int\") to str",
     "output_type": "error",
     "traceback": [
      "\u001b[1;31m---------------------------------------------------------------------------\u001b[0m",
      "\u001b[1;31mTypeError\u001b[0m                                 Traceback (most recent call last)",
      "Cell \u001b[1;32mIn[34], line 1\u001b[0m\n\u001b[1;32m----> 1\u001b[0m add_var \u001b[38;5;241m=\u001b[39m my_str \u001b[38;5;241m+\u001b[39m my_int\n",
      "\u001b[1;31mTypeError\u001b[0m: can only concatenate str (not \"int\") to str"
     ]
    }
   ],
   "source": [
    "add_var = my_str + my_int"
   ]
  },
  {
   "cell_type": "code",
   "execution_count": 36,
   "id": "97564dfd-be34-4e74-b6e3-c2e65590996d",
   "metadata": {},
   "outputs": [
    {
     "name": "stdout",
     "output_type": "stream",
     "text": [
      "columbia1\n"
     ]
    }
   ],
   "source": [
    "add_var = my_str + str(my_int)\n",
    "print (add_var)"
   ]
  },
  {
   "cell_type": "code",
   "execution_count": 37,
   "id": "ae2bbfef-2136-4b21-a497-bd950f883ab1",
   "metadata": {},
   "outputs": [
    {
     "ename": "ValueError",
     "evalue": "invalid literal for int() with base 10: 'columbia'",
     "output_type": "error",
     "traceback": [
      "\u001b[1;31m---------------------------------------------------------------------------\u001b[0m",
      "\u001b[1;31mValueError\u001b[0m                                Traceback (most recent call last)",
      "Cell \u001b[1;32mIn[37], line 1\u001b[0m\n\u001b[1;32m----> 1\u001b[0m \u001b[38;5;28mint\u001b[39m(my_str)\n",
      "\u001b[1;31mValueError\u001b[0m: invalid literal for int() with base 10: 'columbia'"
     ]
    }
   ],
   "source": [
    "int(my_str)"
   ]
  },
  {
   "cell_type": "code",
   "execution_count": 41,
   "id": "276c9b72-f871-44eb-9e71-d9cc5216bfba",
   "metadata": {},
   "outputs": [],
   "source": [
    "str_int = \"15365674287\"\n",
    "my_example = int(str_int)"
   ]
  },
  {
   "cell_type": "code",
   "execution_count": 42,
   "id": "210d5cb8-2602-46f4-871f-426a914e20b6",
   "metadata": {},
   "outputs": [
    {
     "data": {
      "text/plain": [
       "int"
      ]
     },
     "execution_count": 42,
     "metadata": {},
     "output_type": "execute_result"
    }
   ],
   "source": [
    "type(my_example)"
   ]
  },
  {
   "cell_type": "code",
   "execution_count": 43,
   "id": "eaf398f2-4f19-427d-a398-1699427a5910",
   "metadata": {},
   "outputs": [],
   "source": [
    "#data structures\n",
    "#list\n",
    "\n",
    "#my_list = []\n",
    "#python index starts at 0\n",
    "my_list = list()"
   ]
  },
  {
   "cell_type": "code",
   "execution_count": 45,
   "id": "40fda8b8-f92e-48ff-8eef-7f9ae191aba1",
   "metadata": {},
   "outputs": [
    {
     "data": {
      "text/plain": [
       "0"
      ]
     },
     "execution_count": 45,
     "metadata": {},
     "output_type": "execute_result"
    }
   ],
   "source": [
    "len(my_list)"
   ]
  },
  {
   "cell_type": "code",
   "execution_count": 46,
   "id": "cae4fd0d-9d99-4c94-8eb9-2d12e5250a45",
   "metadata": {},
   "outputs": [],
   "source": [
    "my_list.append(\"bob\")"
   ]
  },
  {
   "cell_type": "code",
   "execution_count": 47,
   "id": "09d9b5ef-ba8f-47df-ab6c-376fad07c64b",
   "metadata": {},
   "outputs": [
    {
     "data": {
      "text/plain": [
       "['bob']"
      ]
     },
     "execution_count": 47,
     "metadata": {},
     "output_type": "execute_result"
    }
   ],
   "source": [
    "my_list"
   ]
  },
  {
   "cell_type": "code",
   "execution_count": 48,
   "id": "85aa544b-76f2-4a8a-bcc3-cea9f1ffbe78",
   "metadata": {},
   "outputs": [],
   "source": [
    "my_list.append(\"sue\")"
   ]
  },
  {
   "cell_type": "code",
   "execution_count": 49,
   "id": "ae44a639-7b15-41ce-b582-1cb19164395b",
   "metadata": {},
   "outputs": [
    {
     "data": {
      "text/plain": [
       "['bob', 'sue']"
      ]
     },
     "execution_count": 49,
     "metadata": {},
     "output_type": "execute_result"
    }
   ],
   "source": [
    "my_list"
   ]
  },
  {
   "cell_type": "code",
   "execution_count": 50,
   "id": "3fce7eb1-faee-4f03-9965-7a409f74a10c",
   "metadata": {},
   "outputs": [
    {
     "data": {
      "text/plain": [
       "'bob'"
      ]
     },
     "execution_count": 50,
     "metadata": {},
     "output_type": "execute_result"
    }
   ],
   "source": [
    "my_list[0]"
   ]
  },
  {
   "cell_type": "code",
   "execution_count": 51,
   "id": "26150cc4-b300-488e-a887-f62a05e5ba16",
   "metadata": {},
   "outputs": [
    {
     "data": {
      "text/plain": [
       "'sue'"
      ]
     },
     "execution_count": 51,
     "metadata": {},
     "output_type": "execute_result"
    }
   ],
   "source": [
    "my_list[1]"
   ]
  },
  {
   "cell_type": "code",
   "execution_count": 53,
   "id": "56a86242-6920-46b2-bda6-9fd2f7422a0f",
   "metadata": {},
   "outputs": [],
   "source": [
    "my_list.append(\"mary\")"
   ]
  },
  {
   "cell_type": "code",
   "execution_count": 54,
   "id": "c3a8f597-6537-4f32-aac1-1da34c135be8",
   "metadata": {},
   "outputs": [
    {
     "data": {
      "text/plain": [
       "['bob', 'sue', 'mary']"
      ]
     },
     "execution_count": 54,
     "metadata": {},
     "output_type": "execute_result"
    }
   ],
   "source": [
    "my_list"
   ]
  },
  {
   "cell_type": "code",
   "execution_count": 57,
   "id": "bd24afae-18a9-49cd-a324-01bbe10fc53d",
   "metadata": {},
   "outputs": [
    {
     "data": {
      "text/plain": [
       "['mary', 'sue', 'bob']"
      ]
     },
     "execution_count": 57,
     "metadata": {},
     "output_type": "execute_result"
    }
   ],
   "source": [
    "#reverse\n",
    "my_list[::-1]"
   ]
  },
  {
   "cell_type": "code",
   "execution_count": 58,
   "id": "fb2f818d-4a3f-41bb-80a4-1afdcf7adbce",
   "metadata": {},
   "outputs": [
    {
     "data": {
      "text/plain": [
       "['bob', 'sue']"
      ]
     },
     "execution_count": 58,
     "metadata": {},
     "output_type": "execute_result"
    }
   ],
   "source": [
    "my_list[:2]"
   ]
  },
  {
   "cell_type": "code",
   "execution_count": 63,
   "id": "0abc9ee5-9e83-4743-9bc5-d9df80480f62",
   "metadata": {},
   "outputs": [
    {
     "data": {
      "text/plain": [
       "'mary'"
      ]
     },
     "execution_count": 63,
     "metadata": {},
     "output_type": "execute_result"
    }
   ],
   "source": [
    "#extract last\n",
    "my_list[-1:][0]"
   ]
  },
  {
   "cell_type": "code",
   "execution_count": 65,
   "id": "3a1e290b-4fe6-4f50-83bc-5a9c589df72f",
   "metadata": {},
   "outputs": [],
   "source": [
    "my_list.append(\"bob\")"
   ]
  },
  {
   "cell_type": "code",
   "execution_count": 66,
   "id": "eb392c6f-5267-429e-ab2f-9e012b0683ea",
   "metadata": {},
   "outputs": [
    {
     "data": {
      "text/plain": [
       "['bob', 'sue', 'mary', 'bob']"
      ]
     },
     "execution_count": 66,
     "metadata": {},
     "output_type": "execute_result"
    }
   ],
   "source": [
    "my_list"
   ]
  },
  {
   "cell_type": "code",
   "execution_count": 67,
   "id": "4da63879-e1fd-4d13-8be2-12b61f9661de",
   "metadata": {},
   "outputs": [
    {
     "data": {
      "text/plain": [
       "2"
      ]
     },
     "execution_count": 67,
     "metadata": {},
     "output_type": "execute_result"
    }
   ],
   "source": [
    "#count number of times a specific data type shows up\n",
    "my_list.count(\"bob\")"
   ]
  },
  {
   "cell_type": "code",
   "execution_count": 70,
   "id": "1daf9da0-0d31-4a30-955d-3abf21c420b3",
   "metadata": {},
   "outputs": [],
   "source": [
    "my_list.append(\"Bob\")"
   ]
  },
  {
   "cell_type": "code",
   "execution_count": 71,
   "id": "15d6fc40-5916-4146-8e18-836ec6cf4e49",
   "metadata": {},
   "outputs": [
    {
     "data": {
      "text/plain": [
       "['bob', 'sue', 'mary', 'bob', 'Bob']"
      ]
     },
     "execution_count": 71,
     "metadata": {},
     "output_type": "execute_result"
    }
   ],
   "source": [
    "my_list"
   ]
  },
  {
   "cell_type": "code",
   "execution_count": 73,
   "id": "d45e4e8b-f1f8-4785-9151-6fc70a2cd353",
   "metadata": {},
   "outputs": [
    {
     "data": {
      "text/plain": [
       "1"
      ]
     },
     "execution_count": 73,
     "metadata": {},
     "output_type": "execute_result"
    }
   ],
   "source": [
    "my_list.count(\"Bob\")"
   ]
  },
  {
   "cell_type": "code",
   "execution_count": 74,
   "id": "b325ef01-f5c0-43da-8124-663f686c421b",
   "metadata": {},
   "outputs": [],
   "source": [
    "my_new_str = \"the cat jumped over the fence\""
   ]
  },
  {
   "cell_type": "code",
   "execution_count": 75,
   "id": "eec58f17-79d6-4fb5-85cc-00c4f6748547",
   "metadata": {},
   "outputs": [
    {
     "data": {
      "text/plain": [
       "29"
      ]
     },
     "execution_count": 75,
     "metadata": {},
     "output_type": "execute_result"
    }
   ],
   "source": [
    "len(my_new_str)"
   ]
  },
  {
   "cell_type": "code",
   "execution_count": 77,
   "id": "5e1064e9-e0a7-4928-bc2e-54c07db0086c",
   "metadata": {},
   "outputs": [],
   "source": [
    "#tokenization\n",
    "my_token = my_new_str.split()"
   ]
  },
  {
   "cell_type": "code",
   "execution_count": 78,
   "id": "9bfabc74-91e4-41a0-940d-3a79fd50e544",
   "metadata": {},
   "outputs": [
    {
     "data": {
      "text/plain": [
       "['the', 'cat', 'jumped', 'over', 'the', 'fence']"
      ]
     },
     "execution_count": 78,
     "metadata": {},
     "output_type": "execute_result"
    }
   ],
   "source": [
    "my_token"
   ]
  },
  {
   "cell_type": "code",
   "execution_count": 79,
   "id": "080650e4-f353-460e-900c-bc66513eaa9c",
   "metadata": {},
   "outputs": [
    {
     "data": {
      "text/plain": [
       "6"
      ]
     },
     "execution_count": 79,
     "metadata": {},
     "output_type": "execute_result"
    }
   ],
   "source": [
    "len(my_token)"
   ]
  },
  {
   "cell_type": "code",
   "execution_count": 80,
   "id": "f8ca25f8-bbc3-4d18-a9a9-9512d934bb0b",
   "metadata": {},
   "outputs": [
    {
     "data": {
      "text/plain": [
       "'the cat jumped over the fence'"
      ]
     },
     "execution_count": 80,
     "metadata": {},
     "output_type": "execute_result"
    }
   ],
   "source": [
    "ret_corp = \" \".join(my_token)\n",
    "ret_corp"
   ]
  },
  {
   "cell_type": "code",
   "execution_count": 81,
   "id": "f0566247-7d6b-4397-b0f0-de91ad39a1ee",
   "metadata": {},
   "outputs": [],
   "source": [
    "my_new_str = \"the,cat,jumped,over,the,fence\""
   ]
  },
  {
   "cell_type": "code",
   "execution_count": 82,
   "id": "f9d412e1-4c4d-4c80-b3b7-238668c49439",
   "metadata": {},
   "outputs": [
    {
     "data": {
      "text/plain": [
       "['the', 'cat', 'jumped', 'over', 'the', 'fence']"
      ]
     },
     "execution_count": 82,
     "metadata": {},
     "output_type": "execute_result"
    }
   ],
   "source": [
    "my_new_token = my_new_str.split(\",\")\n",
    "my_new_token"
   ]
  },
  {
   "cell_type": "code",
   "execution_count": 87,
   "id": "6ffbd858-85f6-47f3-9168-6836b4d3cb82",
   "metadata": {},
   "outputs": [
    {
     "data": {
      "text/plain": [
       "['https:', '', 'finance.yahoo.com', 'quote', 'ASTS', '']"
      ]
     },
     "execution_count": 87,
     "metadata": {},
     "output_type": "execute_result"
    }
   ],
   "source": [
    "url = \"https://finance.yahoo.com/quote/ASTS/\"\n",
    "the_ans = url.split(\"/\")\n",
    "the_ans"
   ]
  },
  {
   "cell_type": "code",
   "execution_count": 88,
   "id": "dfd4c892-b981-4cf2-9228-6e66d8234729",
   "metadata": {},
   "outputs": [
    {
     "data": {
      "text/plain": [
       "'ASTS'"
      ]
     },
     "execution_count": 88,
     "metadata": {},
     "output_type": "execute_result"
    }
   ],
   "source": [
    "the_ans = the_ans[-2]\n",
    "the_ans"
   ]
  },
  {
   "cell_type": "code",
   "execution_count": 89,
   "id": "cb2badfe-19dc-4c6d-81a7-b37cdcbd01f2",
   "metadata": {},
   "outputs": [
    {
     "data": {
      "text/plain": [
       "['columbia', 123, 3.14, True]"
      ]
     },
     "execution_count": 89,
     "metadata": {},
     "output_type": "execute_result"
    }
   ],
   "source": [
    "new_list = [\"columbia\", 123, 3.14, True]\n",
    "new_list"
   ]
  },
  {
   "cell_type": "code",
   "execution_count": 109,
   "id": "129aa433-a8bd-428d-bdf6-eb32093266be",
   "metadata": {},
   "outputs": [],
   "source": [
    "#set\n",
    "my_set = set()"
   ]
  },
  {
   "cell_type": "code",
   "execution_count": 110,
   "id": "486c3b8e-8384-4d0c-bd00-7d6453bdc418",
   "metadata": {},
   "outputs": [
    {
     "data": {
      "text/plain": [
       "set"
      ]
     },
     "execution_count": 110,
     "metadata": {},
     "output_type": "execute_result"
    }
   ],
   "source": [
    "type(my_set)"
   ]
  },
  {
   "cell_type": "code",
   "execution_count": 111,
   "id": "e05a96d1-86e4-44c7-ab5b-2f08c67daa76",
   "metadata": {},
   "outputs": [
    {
     "data": {
      "text/plain": [
       "{'20-24', 'audi', 'nyc'}"
      ]
     },
     "execution_count": 111,
     "metadata": {},
     "output_type": "execute_result"
    }
   ],
   "source": [
    "my_set.add(\"20-24\")\n",
    "my_set.add(\"audi\")\n",
    "my_set.add(\"nyc\")\n",
    "my_set"
   ]
  },
  {
   "cell_type": "code",
   "execution_count": 112,
   "id": "e1646dec-62ec-4db0-8684-10302867dcad",
   "metadata": {},
   "outputs": [],
   "source": [
    "my_set.add(\"20-24\")"
   ]
  },
  {
   "cell_type": "code",
   "execution_count": 113,
   "id": "66945a23-63bd-4c52-a51d-140c888afcd0",
   "metadata": {},
   "outputs": [
    {
     "data": {
      "text/plain": [
       "{'20-24', 'audi', 'nyc'}"
      ]
     },
     "execution_count": 113,
     "metadata": {},
     "output_type": "execute_result"
    }
   ],
   "source": [
    "my_set"
   ]
  },
  {
   "cell_type": "code",
   "execution_count": 114,
   "id": "8369e7e6-2f69-42bd-b950-b2138e746538",
   "metadata": {},
   "outputs": [],
   "source": [
    "my_set_a = set()\n",
    "my_set_a.add(\"20-24\")\n",
    "my_set_a.add(\"bmw\")\n",
    "my_set_a.add(\"jc\")"
   ]
  },
  {
   "cell_type": "code",
   "execution_count": 115,
   "id": "c06633c1-3d04-4659-8792-01595599f67d",
   "metadata": {},
   "outputs": [
    {
     "data": {
      "text/plain": [
       "{'20-24', 'bmw', 'jc'}"
      ]
     },
     "execution_count": 115,
     "metadata": {},
     "output_type": "execute_result"
    }
   ],
   "source": [
    "my_set_a"
   ]
  },
  {
   "cell_type": "code",
   "execution_count": 118,
   "id": "6210a14c-3afd-44b2-9f38-5c9b4e8cb9d9",
   "metadata": {},
   "outputs": [],
   "source": [
    "#set logic example\n",
    "#my_set and my_set_a\n",
    "\n",
    "#what are ALL the attribues between these two sets?  UNION\n",
    "the_union = my_set_a.union(my_set) #order does not matter"
   ]
  },
  {
   "cell_type": "code",
   "execution_count": 119,
   "id": "bce31f2c-916a-4567-9d23-c96c8ff11802",
   "metadata": {},
   "outputs": [
    {
     "data": {
      "text/plain": [
       "{'20-24', 'audi', 'bmw', 'jc', 'nyc'}"
      ]
     },
     "execution_count": 119,
     "metadata": {},
     "output_type": "execute_result"
    }
   ],
   "source": [
    "the_union"
   ]
  },
  {
   "cell_type": "code",
   "execution_count": 120,
   "id": "dd9e5dd1-b78f-4d10-88c4-00aee2f3c327",
   "metadata": {},
   "outputs": [
    {
     "data": {
      "text/plain": [
       "{'20-24'}"
      ]
     },
     "execution_count": 120,
     "metadata": {},
     "output_type": "execute_result"
    }
   ],
   "source": [
    "#intersection, what do two sets have in common?\n",
    "the_inter = my_set_a.intersection(my_set)\n",
    "the_inter"
   ]
  },
  {
   "cell_type": "code",
   "execution_count": 121,
   "id": "2f1d82dc-7ec5-4fe2-bd22-90ee6bce16da",
   "metadata": {},
   "outputs": [
    {
     "data": {
      "text/plain": [
       "{'audi', 'nyc'}"
      ]
     },
     "execution_count": 121,
     "metadata": {},
     "output_type": "execute_result"
    }
   ],
   "source": [
    "#what does one set have that the other doesnt?\n",
    "set_a_diff = my_set.difference(my_set_a) #order does matter\n",
    "set_a_diff"
   ]
  },
  {
   "cell_type": "code",
   "execution_count": 122,
   "id": "af679aa6-f7cb-44d2-b515-dcd3ea7e2ea4",
   "metadata": {},
   "outputs": [
    {
     "data": {
      "text/plain": [
       "{'bmw', 'jc'}"
      ]
     },
     "execution_count": 122,
     "metadata": {},
     "output_type": "execute_result"
    }
   ],
   "source": [
    "set_an_diff = my_set_a.difference(my_set) #order does matter\n",
    "set_an_diff"
   ]
  },
  {
   "cell_type": "code",
   "execution_count": 124,
   "id": "ba1b8524-d8ea-438f-8103-932afda5fad6",
   "metadata": {},
   "outputs": [
    {
     "data": {
      "text/plain": [
       "{'audi', 'bmw', 'jc', 'nyc'}"
      ]
     },
     "execution_count": 124,
     "metadata": {},
     "output_type": "execute_result"
    }
   ],
   "source": [
    "asym_diff = my_set_a.symmetric_difference(my_set)\n",
    "asym_diff"
   ]
  },
  {
   "cell_type": "code",
   "execution_count": null,
   "id": "31b1356e-ac6b-41b0-a3c0-67360602c8be",
   "metadata": {},
   "outputs": [],
   "source": []
  }
 ],
 "metadata": {
  "kernelspec": {
   "display_name": "Python 3 (ipykernel)",
   "language": "python",
   "name": "python3"
  },
  "language_info": {
   "codemirror_mode": {
    "name": "ipython",
    "version": 3
   },
   "file_extension": ".py",
   "mimetype": "text/x-python",
   "name": "python",
   "nbconvert_exporter": "python",
   "pygments_lexer": "ipython3",
   "version": "3.11.8"
  }
 },
 "nbformat": 4,
 "nbformat_minor": 5
}
