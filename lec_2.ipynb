{
 "cells": [
  {
   "cell_type": "markdown",
   "id": "dd869118-b21e-4389-be3b-d580334824b5",
   "metadata": {},
   "source": [
    "<B>Use of token<B>"
   ]
  },
  {
   "cell_type": "code",
   "execution_count": 3,
   "id": "1a3b5075-bac0-400e-aa0b-8bd536f2d699",
   "metadata": {},
   "outputs": [],
   "source": [
    "str_a = \"the weather today is really beautiful\"\n",
    "str_b = \"the weather today is nice\""
   ]
  },
  {
   "cell_type": "code",
   "execution_count": 4,
   "id": "39a207e2-1301-46ca-8b3e-ab0f2459d5dc",
   "metadata": {},
   "outputs": [],
   "source": [
    "#Jaccard measures\n",
    "#intersection (shared number of tokens) / union (total number of tokens)\n",
    "#a way to measure the similarity between two sets or strings"
   ]
  },
  {
   "cell_type": "code",
   "execution_count": 5,
   "id": "0169a308-9f2f-4c84-977b-c615a8898320",
   "metadata": {},
   "outputs": [],
   "source": [
    "str_a_s = str_a.split()\n",
    "str_b_s = str_b.split()"
   ]
  },
  {
   "cell_type": "code",
   "execution_count": 6,
   "id": "9bd76e35-ec47-4b7d-bea5-9768472ae4f5",
   "metadata": {},
   "outputs": [],
   "source": [
    "str_a_s_set = set(str_a_s)\n",
    "str_b_s_set = set(str_b_s)"
   ]
  },
  {
   "cell_type": "code",
   "execution_count": 7,
   "id": "d2a03312-a298-43bd-b076-291d3815a6ab",
   "metadata": {},
   "outputs": [],
   "source": [
    "the_u = str_a_s_set.union(str_b_s_set)\n",
    "the_i = str_a_s_set.intersection(str_b_s_set)"
   ]
  },
  {
   "cell_type": "code",
   "execution_count": 8,
   "id": "cdfbe32a-1965-460a-9814-dedfda38d107",
   "metadata": {},
   "outputs": [
    {
     "data": {
      "text/plain": [
       "0.5714285714285714"
      ]
     },
     "execution_count": 8,
     "metadata": {},
     "output_type": "execute_result"
    }
   ],
   "source": [
    "j_d = len(the_i) / len(the_u)\n",
    "j_d #Jaccard measure = 57.14%"
   ]
  },
  {
   "cell_type": "code",
   "execution_count": 9,
   "id": "f05b1b8b-605b-47ea-906d-f4d8a46c6e92",
   "metadata": {},
   "outputs": [],
   "source": [
    "def hello_world():\n",
    "    print('Hello World')"
   ]
  },
  {
   "cell_type": "code",
   "execution_count": 10,
   "id": "200375b1-12ed-433f-89c6-ec335a5316b8",
   "metadata": {},
   "outputs": [
    {
     "name": "stdout",
     "output_type": "stream",
     "text": [
      "Hello World\n"
     ]
    }
   ],
   "source": [
    "hello_world()"
   ]
  },
  {
   "cell_type": "code",
   "execution_count": 77,
   "id": "a35e3e32-44e0-4e5e-a94a-875dfba2c5d6",
   "metadata": {},
   "outputs": [],
   "source": [
    "#create a function that tales 2 corpuses and outputes the jaccardian measure\n",
    "#name the function jd_fun\n",
    "\n",
    "def jd_fun(str_a, str_b):\n",
    "    j_d = None\n",
    "    try:\n",
    "        str_a_s = str_a.split()\n",
    "        str_b_s = str_b.split()\n",
    "        str_a_s_set = set(str_a_s)\n",
    "        str_b_s_set = set(str_b_s)\n",
    "        the_u = str_a_s_set.union(str_b_s_set)\n",
    "        the_i = str_a_s_set.intersection(str_b_s_set)\n",
    "        j_d = len(the_i) / len(the_u)\n",
    "    except:\n",
    "        print(\"error\")\n",
    "        pass\n",
    "    return j_d"
   ]
  },
  {
   "cell_type": "code",
   "execution_count": 79,
   "id": "8538b895-59f3-48de-84da-6622690dc1ea",
   "metadata": {},
   "outputs": [
    {
     "data": {
      "text/plain": [
       "0.5714285714285714"
      ]
     },
     "execution_count": 79,
     "metadata": {},
     "output_type": "execute_result"
    }
   ],
   "source": [
    "jd_fun(\"the weather today is really beautiful\", \"the weather today is nice\")"
   ]
  },
  {
   "cell_type": "code",
   "execution_count": 81,
   "id": "083d087e-ef61-4254-9a30-5e363e4ded8c",
   "metadata": {},
   "outputs": [
    {
     "name": "stdout",
     "output_type": "stream",
     "text": [
      "error\n"
     ]
    }
   ],
   "source": [
    "jd_fun(4, \"the weather today is nice\")"
   ]
  },
  {
   "cell_type": "code",
   "execution_count": 103,
   "id": "3e155366-3a12-44bb-b38d-1489911efcbd",
   "metadata": {},
   "outputs": [],
   "source": [
    "the_dictionary = dict()\n",
    "the_dictionary\n",
    "the_dictionary = {'key_a': 'columbia', 'key_b': [1, 4, 6],'key_c':{'key_blah': 3.14} }"
   ]
  },
  {
   "cell_type": "code",
   "execution_count": 138,
   "id": "9d91faaa-d639-410b-a247-89e71915ae7d",
   "metadata": {},
   "outputs": [],
   "source": [
    "def word_fun(str_in):\n",
    "    t_temp = dict()\n",
    "    i_split  = str_in.split()\n",
    "    for word in set(i_split):\n",
    "        t_temp[word] = i_split.count(word)\n",
    "    return t_temp"
   ]
  },
  {
   "cell_type": "code",
   "execution_count": 136,
   "id": "e193d633-696c-4735-8e24-f5fc55c9fd1b",
   "metadata": {},
   "outputs": [
    {
     "data": {
      "text/plain": [
       "{'A': 2,\n",
       " 'collocation': 1,\n",
       " 'is': 4,\n",
       " 'a': 2,\n",
       " 'sequence': 1,\n",
       " 'of': 2,\n",
       " 'words': 2,\n",
       " 'that': 3,\n",
       " 'occur': 1,\n",
       " 'together': 1,\n",
       " 'unusually': 1,\n",
       " 'often.': 1,\n",
       " 'Thus': 1,\n",
       " 'red': 1,\n",
       " 'wine': 3,\n",
       " 'collocation,': 1,\n",
       " 'whereas': 1,\n",
       " 'the': 1,\n",
       " 'not.': 1,\n",
       " 'characteristic': 1,\n",
       " 'collocations': 1,\n",
       " 'they': 1,\n",
       " 'are': 1,\n",
       " 'resistant': 1,\n",
       " 'to': 1,\n",
       " 'substitution': 1,\n",
       " 'with': 1,\n",
       " 'have': 1,\n",
       " 'similar': 1,\n",
       " 'senses;': 1,\n",
       " 'for': 1,\n",
       " 'example,': 1,\n",
       " 'maroon': 1,\n",
       " 'sounds': 1,\n",
       " 'definitely': 1,\n",
       " 'odd': 1}"
      ]
     },
     "execution_count": 136,
     "metadata": {},
     "output_type": "execute_result"
    }
   ],
   "source": [
    "test_in = 'A collocation is a sequence of words that occur together unusually often. Thus red wine is a collocation, whereas the wine is not. A characteristic of collocations is that they are resistant to substitution with words that have similar senses; for example, maroon wine sounds definitely odd'\n",
    "\n",
    "word_fun(test_in)"
   ]
  },
  {
   "cell_type": "code",
   "execution_count": null,
   "id": "974cba3d-5419-4bf5-a1da-d47c8534882f",
   "metadata": {},
   "outputs": [],
   "source": []
  }
 ],
 "metadata": {
  "kernelspec": {
   "display_name": "Python 3 (ipykernel)",
   "language": "python",
   "name": "python3"
  },
  "language_info": {
   "codemirror_mode": {
    "name": "ipython",
    "version": 3
   },
   "file_extension": ".py",
   "mimetype": "text/x-python",
   "name": "python",
   "nbconvert_exporter": "python",
   "pygments_lexer": "ipython3",
   "version": "3.12.4"
  }
 },
 "nbformat": 4,
 "nbformat_minor": 5
}
